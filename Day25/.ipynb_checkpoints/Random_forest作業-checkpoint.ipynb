{
 "cells": [
  {
   "cell_type": "markdown",
   "metadata": {},
   "source": [
    "### 作業目的: 了解何謂Bias-Variance Tradeoff"
   ]
  },
  {
   "cell_type": "markdown",
   "metadata": {},
   "source": [
    "### Q1: 一般模型誤差可拆為三部分，這三部分的誤差分別是？\n",
    "\n",
    "Answer: \n",
    "\n",
    "1. Irreducible Error，即不可避免誤差部分，刻畫了當前任務任何算法所能達到的期望泛化誤差的下限，即刻畫了問題本身的難度；\n",
    "2. Bias，即偏差部分，刻畫了算法的擬合能力，Bias偏高表示預測函數與真實結果相差很大；\n",
    "3. Variance，即方差部分，則代表“同樣大小的不同數據集訓練出的模型”與“這些模型的期望輸出值”之間的差異。訓練集變化導致性能變化，Var高表示模型很不穩定。"
   ]
  },
  {
   "cell_type": "markdown",
   "metadata": {},
   "source": [
    "### Q2: 請解釋何謂Bias-Variance Tradeoff\n",
    "\n",
    "Answer:\n",
    "訓練的過程即取得overfitting及underfitting的平衡\n",
    "在一定的資料量之下,模型過於複雜容易造成overfitting; 過於簡單的模型則會造成underfitting"
   ]
  },
  {
   "cell_type": "code",
   "execution_count": null,
   "metadata": {},
   "outputs": [],
   "source": []
  }
 ],
 "metadata": {
  "kernelspec": {
   "display_name": "Python 3",
   "language": "python",
   "name": "python3"
  },
  "language_info": {
   "codemirror_mode": {
    "name": "ipython",
    "version": 3
   },
   "file_extension": ".py",
   "mimetype": "text/x-python",
   "name": "python",
   "nbconvert_exporter": "python",
   "pygments_lexer": "ipython3",
   "version": "3.6.13"
  }
 },
 "nbformat": 4,
 "nbformat_minor": 4
}
